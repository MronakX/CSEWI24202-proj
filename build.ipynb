{
 "cells": [
  {
   "cell_type": "code",
   "execution_count": 133,
   "metadata": {},
   "outputs": [],
   "source": [
    "import math\n",
    "import numpy as np"
   ]
  },
  {
   "cell_type": "code",
   "execution_count": 134,
   "metadata": {},
   "outputs": [],
   "source": [
    "# Assuming data format: {(x, y, z): 'block_type'}\n",
    "m = {}  # input map\n",
    "graph = {}\n",
    "stateful_graph = {}\n",
    "Fsafe = 3\n",
    "jump_height = 1 "
   ]
  },
  {
   "cell_type": "code",
   "execution_count": 135,
   "metadata": {},
   "outputs": [],
   "source": [
    "world_txt_filename = 'test/world-dump.txt'"
   ]
  },
  {
   "cell_type": "code",
   "execution_count": 136,
   "metadata": {},
   "outputs": [],
   "source": [
    "with open(world_txt_filename, 'r') as file:\n",
    "    lines = file.readlines()"
   ]
  },
  {
   "cell_type": "code",
   "execution_count": 137,
   "metadata": {},
   "outputs": [],
   "source": [
    "for line in lines:\n",
    "    if line.startswith('b'):\n",
    "        parts = line.split() \n",
    "        x, z, y = map(int, parts[1:4]) \n",
    "        block_type = parts[4] \n",
    "        m[(x, y, z)] = block_type\n"
   ]
  },
  {
   "cell_type": "code",
   "execution_count": 138,
   "metadata": {},
   "outputs": [],
   "source": [
    "def add_edge(x1, y1, z1, x2, y2, z2):\n",
    "    distance = math.sqrt((x1 - x2) ** 2 + (y1 - y2) ** 2 + (z1 - z2) ** 2)\n",
    "    graph.setdefault((x1, y1, z1), []).append(((x2, y2, z2), distance))\n",
    "    \n",
    "def is_reachable(x, y, z):\n",
    "    return m.get((x, y, z)) == 'solid' and m.get((x, y, z + 1)) != 'solid'"
   ]
  },
  {
   "cell_type": "code",
   "execution_count": 139,
   "metadata": {},
   "outputs": [],
   "source": [
    "def construct_graph():\n",
    "    for (x, y, z), block_type in m.items():\n",
    "        # if not is_reachable(x, y, z):\n",
    "        #     continue\n",
    "        graph.setdefault((x, y, z), [])\n",
    "        for dx, dy in [(1, 0), (-1, 0), (0, 1), (0, -1)]: # we only consider moving 4 dirs\n",
    "            for dz in range(jump_height, -Fsafe - 1, -1):\n",
    "                nx, ny, nz = x + dx, y + dy, z + dz\n",
    "                if nz < z and m.get((nx, ny, z)) == 'solid':\n",
    "                    continue\n",
    "                elif is_reachable(nx, ny, nz):\n",
    "                    add_edge(x, y, z, nx, ny, nz)\n",
    "                    break"
   ]
  },
  {
   "cell_type": "code",
   "execution_count": 140,
   "metadata": {},
   "outputs": [],
   "source": [
    "graph = {}\n",
    "construct_graph()"
   ]
  },
  {
   "cell_type": "code",
   "execution_count": 141,
   "metadata": {},
   "outputs": [
    {
     "data": {
      "text/plain": [
       "{(0, 0, 0): [((1, 0, 0), 1.0), ((0, 1, 0), 1.0)],\n",
       " (0, 1, 0): [((0, 2, 0), 1.0), ((0, 0, 0), 1.0)],\n",
       " (0, 2, 0): [((1, 2, 0), 1.0), ((0, 1, 0), 1.0)],\n",
       " (1, 0, 0): [((2, 0, 0), 1.0), ((0, 0, 0), 1.0)],\n",
       " (1, 1, 0): [((2, 1, 0), 1.0),\n",
       "  ((0, 1, 0), 1.0),\n",
       "  ((1, 2, 0), 1.0),\n",
       "  ((1, 0, 0), 1.0)],\n",
       " (1, 2, 0): [((2, 2, 0), 1.0), ((0, 2, 0), 1.0)],\n",
       " (2, 0, 0): [((1, 0, 0), 1.0), ((2, 1, 0), 1.0)],\n",
       " (2, 1, 0): [((2, 2, 0), 1.0), ((2, 0, 0), 1.0)],\n",
       " (2, 2, 0): [((1, 2, 0), 1.0), ((2, 1, 0), 1.0)],\n",
       " (1, 1, 1): [((2, 1, 0), 1.4142135623730951),\n",
       "  ((0, 1, 0), 1.4142135623730951),\n",
       "  ((1, 2, 0), 1.4142135623730951),\n",
       "  ((1, 0, 0), 1.4142135623730951)],\n",
       " (1, 1, 2): [((2, 1, 0), 2.23606797749979),\n",
       "  ((0, 1, 0), 2.23606797749979),\n",
       "  ((1, 2, 0), 2.23606797749979),\n",
       "  ((1, 0, 0), 2.23606797749979)]}"
      ]
     },
     "execution_count": 141,
     "metadata": {},
     "output_type": "execute_result"
    }
   ],
   "source": [
    "graph"
   ]
  },
  {
   "cell_type": "code",
   "execution_count": 150,
   "metadata": {},
   "outputs": [],
   "source": [
    "def add_edge_with_resource(x1, y1, z1, k1, x2, y2, z2, k2, ex_cost):\n",
    "    distance = math.sqrt((x1 - x2) ** 2 + (y1 - y2) ** 2 + (z1 - z2) ** 2)\n",
    "    stateful_graph.setdefault(((x1, y1, z1), k1), []).append((((x2, y2, z2), k2), distance + ex_cost))\n",
    "    \n",
    "def construct_graph_with_resources(K):\n",
    "    for (x, y, z), block_type in m.items():\n",
    "        for k in range(K+1):  \n",
    "            for dx, dy in [(1, 0), (-1, 0), (0, 1), (0, -1)]:\n",
    "                for dz in [1]: # can only destruct block at z+1\n",
    "                    nx, ny, nz = x + dx, y + dy, z + dz\n",
    "                    # no block or not solid or have resource\n",
    "                    if m.get((nx, ny, nz)) == 'solid' and k > 0:\n",
    "                        nk = k - 1\n",
    "                        m[(nx, ny, nz)] = 'air'\n",
    "                        if is_reachable(nx, ny, nz-1):\n",
    "                            add_edge_with_resource(x, y, z, k, nx, ny, nz-1, nk, 1) \n",
    "                            m[(nx, ny, nz)] = 'solid'\n",
    "                for dz in range(jump_height, -Fsafe - 1, -1):\n",
    "                    nx, ny, nz = x + dx, y + dy, z + dz\n",
    "                    if is_reachable(nx, ny, nz):\n",
    "                        add_edge_with_resource(x, y, z, k, nx, ny, nz, k, 0) \n",
    "                        break            \n",
    "           "
   ]
  },
  {
   "cell_type": "code",
   "execution_count": 151,
   "metadata": {},
   "outputs": [],
   "source": [
    "K = 3\n",
    "stateful_graph = {}\n",
    "construct_graph_with_resources(K)"
   ]
  },
  {
   "cell_type": "code",
   "execution_count": 152,
   "metadata": {},
   "outputs": [
    {
     "data": {
      "text/plain": [
       "{((0, 0, 0), 0): [(((1, 0, 0), 0), 1.0), (((0, 1, 0), 0), 1.0)],\n",
       " ((0, 0, 0), 1): [(((1, 0, 0), 1), 1.0), (((0, 1, 0), 1), 1.0)],\n",
       " ((0, 0, 0), 2): [(((1, 0, 0), 2), 1.0), (((0, 1, 0), 2), 1.0)],\n",
       " ((0, 0, 0), 3): [(((1, 0, 0), 3), 1.0), (((0, 1, 0), 3), 1.0)],\n",
       " ((0, 1, 0), 0): [(((0, 2, 0), 0), 1.0), (((0, 0, 0), 0), 1.0)],\n",
       " ((0, 1, 0), 1): [(((1, 1, 0), 0), 2.0),\n",
       "  (((0, 2, 0), 1), 1.0),\n",
       "  (((0, 0, 0), 1), 1.0)],\n",
       " ((0, 1, 0), 2): [(((1, 1, 0), 1), 2.0),\n",
       "  (((0, 2, 0), 2), 1.0),\n",
       "  (((0, 0, 0), 2), 1.0)],\n",
       " ((0, 1, 0), 3): [(((1, 1, 0), 2), 2.0),\n",
       "  (((0, 2, 0), 3), 1.0),\n",
       "  (((0, 0, 0), 3), 1.0)],\n",
       " ((0, 2, 0), 0): [(((1, 2, 0), 0), 1.0), (((0, 1, 0), 0), 1.0)],\n",
       " ((0, 2, 0), 1): [(((1, 2, 0), 1), 1.0), (((0, 1, 0), 1), 1.0)],\n",
       " ((0, 2, 0), 2): [(((1, 2, 0), 2), 1.0), (((0, 1, 0), 2), 1.0)],\n",
       " ((0, 2, 0), 3): [(((1, 2, 0), 3), 1.0), (((0, 1, 0), 3), 1.0)],\n",
       " ((1, 0, 0), 0): [(((2, 0, 0), 0), 1.0), (((0, 0, 0), 0), 1.0)],\n",
       " ((1, 0, 0), 1): [(((2, 0, 0), 1), 1.0),\n",
       "  (((0, 0, 0), 1), 1.0),\n",
       "  (((1, 1, 0), 0), 2.0)],\n",
       " ((1, 0, 0), 2): [(((2, 0, 0), 2), 1.0),\n",
       "  (((0, 0, 0), 2), 1.0),\n",
       "  (((1, 1, 0), 1), 2.0)],\n",
       " ((1, 0, 0), 3): [(((2, 0, 0), 3), 1.0),\n",
       "  (((0, 0, 0), 3), 1.0),\n",
       "  (((1, 1, 0), 2), 2.0)],\n",
       " ((1, 1, 0), 0): [(((2, 1, 0), 0), 1.0),\n",
       "  (((0, 1, 0), 0), 1.0),\n",
       "  (((1, 2, 0), 0), 1.0),\n",
       "  (((1, 0, 0), 0), 1.0)],\n",
       " ((1, 1, 0), 1): [(((2, 1, 0), 1), 1.0),\n",
       "  (((0, 1, 0), 1), 1.0),\n",
       "  (((1, 2, 0), 1), 1.0),\n",
       "  (((1, 0, 0), 1), 1.0)],\n",
       " ((1, 1, 0), 2): [(((2, 1, 0), 2), 1.0),\n",
       "  (((0, 1, 0), 2), 1.0),\n",
       "  (((1, 2, 0), 2), 1.0),\n",
       "  (((1, 0, 0), 2), 1.0)],\n",
       " ((1, 1, 0), 3): [(((2, 1, 0), 3), 1.0),\n",
       "  (((0, 1, 0), 3), 1.0),\n",
       "  (((1, 2, 0), 3), 1.0),\n",
       "  (((1, 0, 0), 3), 1.0)],\n",
       " ((1, 2, 0), 0): [(((2, 2, 0), 0), 1.0), (((0, 2, 0), 0), 1.0)],\n",
       " ((1, 2, 0), 1): [(((2, 2, 0), 1), 1.0),\n",
       "  (((0, 2, 0), 1), 1.0),\n",
       "  (((1, 1, 0), 0), 2.0)],\n",
       " ((1, 2, 0), 2): [(((2, 2, 0), 2), 1.0),\n",
       "  (((0, 2, 0), 2), 1.0),\n",
       "  (((1, 1, 0), 1), 2.0)],\n",
       " ((1, 2, 0), 3): [(((2, 2, 0), 3), 1.0),\n",
       "  (((0, 2, 0), 3), 1.0),\n",
       "  (((1, 1, 0), 2), 2.0)],\n",
       " ((2, 0, 0), 0): [(((1, 0, 0), 0), 1.0), (((2, 1, 0), 0), 1.0)],\n",
       " ((2, 0, 0), 1): [(((1, 0, 0), 1), 1.0), (((2, 1, 0), 1), 1.0)],\n",
       " ((2, 0, 0), 2): [(((1, 0, 0), 2), 1.0), (((2, 1, 0), 2), 1.0)],\n",
       " ((2, 0, 0), 3): [(((1, 0, 0), 3), 1.0), (((2, 1, 0), 3), 1.0)],\n",
       " ((2, 1, 0), 0): [(((2, 2, 0), 0), 1.0), (((2, 0, 0), 0), 1.0)],\n",
       " ((2, 1, 0), 1): [(((1, 1, 0), 0), 2.0),\n",
       "  (((2, 2, 0), 1), 1.0),\n",
       "  (((2, 0, 0), 1), 1.0)],\n",
       " ((2, 1, 0), 2): [(((1, 1, 0), 1), 2.0),\n",
       "  (((2, 2, 0), 2), 1.0),\n",
       "  (((2, 0, 0), 2), 1.0)],\n",
       " ((2, 1, 0), 3): [(((1, 1, 0), 2), 2.0),\n",
       "  (((2, 2, 0), 3), 1.0),\n",
       "  (((2, 0, 0), 3), 1.0)],\n",
       " ((2, 2, 0), 0): [(((1, 2, 0), 0), 1.0), (((2, 1, 0), 0), 1.0)],\n",
       " ((2, 2, 0), 1): [(((1, 2, 0), 1), 1.0), (((2, 1, 0), 1), 1.0)],\n",
       " ((2, 2, 0), 2): [(((1, 2, 0), 2), 1.0), (((2, 1, 0), 2), 1.0)],\n",
       " ((2, 2, 0), 3): [(((1, 2, 0), 3), 1.0), (((2, 1, 0), 3), 1.0)],\n",
       " ((1, 1, 1), 0): [(((2, 1, 0), 0), 1.4142135623730951),\n",
       "  (((0, 1, 0), 0), 1.4142135623730951),\n",
       "  (((1, 2, 0), 0), 1.4142135623730951),\n",
       "  (((1, 0, 0), 0), 1.4142135623730951)],\n",
       " ((1, 1, 1), 1): [(((2, 1, 0), 1), 1.4142135623730951),\n",
       "  (((0, 1, 0), 1), 1.4142135623730951),\n",
       "  (((1, 2, 0), 1), 1.4142135623730951),\n",
       "  (((1, 0, 0), 1), 1.4142135623730951)],\n",
       " ((1, 1, 1), 2): [(((2, 1, 0), 2), 1.4142135623730951),\n",
       "  (((0, 1, 0), 2), 1.4142135623730951),\n",
       "  (((1, 2, 0), 2), 1.4142135623730951),\n",
       "  (((1, 0, 0), 2), 1.4142135623730951)],\n",
       " ((1, 1, 1), 3): [(((2, 1, 0), 3), 1.4142135623730951),\n",
       "  (((0, 1, 0), 3), 1.4142135623730951),\n",
       "  (((1, 2, 0), 3), 1.4142135623730951),\n",
       "  (((1, 0, 0), 3), 1.4142135623730951)],\n",
       " ((1, 1, 2), 0): [(((2, 1, 0), 0), 2.23606797749979),\n",
       "  (((0, 1, 0), 0), 2.23606797749979),\n",
       "  (((1, 2, 0), 0), 2.23606797749979),\n",
       "  (((1, 0, 0), 0), 2.23606797749979)],\n",
       " ((1, 1, 2), 1): [(((2, 1, 0), 1), 2.23606797749979),\n",
       "  (((0, 1, 0), 1), 2.23606797749979),\n",
       "  (((1, 2, 0), 1), 2.23606797749979),\n",
       "  (((1, 0, 0), 1), 2.23606797749979)],\n",
       " ((1, 1, 2), 2): [(((2, 1, 0), 2), 2.23606797749979),\n",
       "  (((0, 1, 0), 2), 2.23606797749979),\n",
       "  (((1, 2, 0), 2), 2.23606797749979),\n",
       "  (((1, 0, 0), 2), 2.23606797749979)],\n",
       " ((1, 1, 2), 3): [(((2, 1, 0), 3), 2.23606797749979),\n",
       "  (((0, 1, 0), 3), 2.23606797749979),\n",
       "  (((1, 2, 0), 3), 2.23606797749979),\n",
       "  (((1, 0, 0), 3), 2.23606797749979)]}"
      ]
     },
     "execution_count": 152,
     "metadata": {},
     "output_type": "execute_result"
    }
   ],
   "source": [
    "stateful_graph"
   ]
  },
  {
   "cell_type": "code",
   "execution_count": 153,
   "metadata": {},
   "outputs": [],
   "source": [
    "# TODO: below are modified based on chatgpt's solution\n",
    "\n",
    "import math\n",
    "from queue import PriorityQueue\n",
    "\n",
    "# Assuming graph is already defined as shown in previous examples\n",
    "\n",
    "def euclidean_distance(x1, y1, z1, x2, y2, z2):\n",
    "    return math.sqrt((x2 - x1) ** 2 + (y2 - y1) ** 2 + (z2 - z1) ** 2)\n",
    "\n",
    "def a_star_search(start, goal):\n",
    "    open_set = PriorityQueue()\n",
    "    open_set.put((0, start))\n",
    "    \n",
    "    came_from = {}\n",
    "    g_score = {node: float('inf') for node in graph}\n",
    "    g_score[start] = 0\n",
    "    \n",
    "    f_score = {node: float('inf') for node in graph}\n",
    "    f_score[start] = euclidean_distance(*start, *goal)\n",
    "    \n",
    "    while not open_set.empty():\n",
    "        current = open_set.get()[1]  # Get node with lowest f_score value\n",
    "        \n",
    "        if current == goal:\n",
    "            path = [current]\n",
    "            total_cost = g_score[current]  # Total cost to reach the goal\n",
    "            while current in came_from:\n",
    "                current = came_from[current]\n",
    "                path.append(current)\n",
    "            path.reverse()\n",
    "            return path, total_cost\n",
    "        \n",
    "        for neighbor, distance in graph[current]:\n",
    "            tentative_g_score = g_score[current] + distance\n",
    "            \n",
    "            if tentative_g_score < g_score[neighbor]:\n",
    "                came_from[neighbor] = current\n",
    "                g_score[neighbor] = tentative_g_score\n",
    "                f_score[neighbor] = g_score[neighbor] + euclidean_distance(*neighbor, *goal)\n",
    "                open_set.put((f_score[neighbor], neighbor))\n",
    "    \n",
    "    return False, 0 \n",
    "\n"
   ]
  },
  {
   "cell_type": "code",
   "execution_count": 154,
   "metadata": {},
   "outputs": [
    {
     "name": "stdout",
     "output_type": "stream",
     "text": [
      "Path: [(0, 0, 0), (0, 1, 0), (0, 2, 0), (1, 2, 0), (2, 2, 0)]\n",
      "Total cost: 4.0\n"
     ]
    }
   ],
   "source": [
    "# Example usage\n",
    "start = (0, 0, 0) \n",
    "goal = (2, 2, 0) \n",
    "path, cost = a_star_search(start, goal)\n",
    "print(\"Path:\", path)\n",
    "print(\"Total cost:\", cost)"
   ]
  },
  {
   "cell_type": "code",
   "execution_count": 155,
   "metadata": {},
   "outputs": [],
   "source": [
    "def a_star_search_with_resources(start, goal, K):\n",
    "    open_set = PriorityQueue()\n",
    "    # Adjust the start node format to include the resource count within the tuple\n",
    "    open_set.put((0, (start, K)))  # Start node now properly includes initial resources\n",
    "    \n",
    "    came_from = {}\n",
    "    g_score = {((x, y, z), k): float('inf') for ((x, y, z), k) in stateful_graph}\n",
    "    g_score[(start, K)] = 0  # Initialize g_score for the start node with resources\n",
    "    \n",
    "    f_score = {((x, y, z), k): float('inf') for ((x, y, z), k) in stateful_graph}\n",
    "    f_score[(start, K)] = euclidean_distance(*start, *goal)  # Initialize f_score\n",
    "    while not open_set.empty():\n",
    "        # Adjusted to retrieve ((x, y, z), k) format directly\n",
    "        current_cost, (current_pos, current_k) = open_set.get()\n",
    "        \n",
    "        if current_pos == goal:\n",
    "            path = [(current_pos, current_k)]\n",
    "            total_cost = g_score[(current_pos, current_k)]\n",
    "            while (current_pos, current_k) in came_from:\n",
    "                current_pos, current_k = came_from[(current_pos, current_k)]\n",
    "                path.append((current_pos, current_k))\n",
    "            path.reverse()\n",
    "            return path, total_cost  # Path reconstructed from goal to start\n",
    "        \n",
    "        for (neighbor, k_rest), distance in stateful_graph[(current_pos, current_k)]:\n",
    "            tentative_g_score = g_score[(current_pos, current_k)] + distance\n",
    "            \n",
    "            if tentative_g_score < g_score[(neighbor, k_rest)]:\n",
    "                # Update the path and scores for better path\n",
    "                came_from[(neighbor, k_rest)] = (current_pos, current_k)\n",
    "                g_score[(neighbor, k_rest)] = tentative_g_score\n",
    "                f_score[(neighbor, k_rest)] = tentative_g_score + euclidean_distance(*neighbor, *goal)\n",
    "                open_set.put((f_score[(neighbor, k_rest)], (neighbor, k_rest)))\n",
    "    \n",
    "    return False \n"
   ]
  },
  {
   "cell_type": "code",
   "execution_count": 157,
   "metadata": {},
   "outputs": [
    {
     "name": "stdout",
     "output_type": "stream",
     "text": [
      "Path: [((0, 0, 0), 3), ((0, 1, 0), 3), ((0, 2, 0), 3), ((1, 2, 0), 3), ((2, 2, 0), 3)]\n",
      "Total cost: 4.0\n",
      "Path: [(0, 0, 0), (0, 1, 0), (0, 2, 0), (1, 2, 0), (2, 2, 0)]\n",
      "Total cost: 4.0\n"
     ]
    }
   ],
   "source": [
    "# Example usage\n",
    "start = (0, 1, 0) \n",
    "goal = (2, 1, 0) \n",
    "K = 3\n",
    "path, cost = a_star_search_with_resources(start, goal, K)\n",
    "print(\"Path:\", path)\n",
    "print(\"Total cost:\", cost)\n",
    "\n",
    "path, cost = a_star_search(start, goal)\n",
    "print(\"Path:\", path)\n",
    "print(\"Total cost:\", cost)"
   ]
  }
 ],
 "metadata": {
  "kernelspec": {
   "display_name": "virt",
   "language": "python",
   "name": "python3"
  },
  "language_info": {
   "codemirror_mode": {
    "name": "ipython",
    "version": 3
   },
   "file_extension": ".py",
   "mimetype": "text/x-python",
   "name": "python",
   "nbconvert_exporter": "python",
   "pygments_lexer": "ipython3",
   "version": "3.9.7"
  }
 },
 "nbformat": 4,
 "nbformat_minor": 2
}
