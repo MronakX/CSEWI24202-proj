{
 "cells": [
  {
   "cell_type": "code",
   "execution_count": null,
   "metadata": {},
   "outputs": [],
   "source": [
    "import math\n",
    "import numpy as np"
   ]
  },
  {
   "cell_type": "code",
   "execution_count": null,
   "metadata": {},
   "outputs": [],
   "source": [
    "# Assuming data format: {(x, y, z): 'block_type'}\n",
    "m = {}  # input map\n",
    "graph = {}\n",
    "Fsafe = 3\n",
    "jump_height = 1 "
   ]
  },
  {
   "cell_type": "code",
   "execution_count": null,
   "metadata": {},
   "outputs": [],
   "source": [
    "def add_edge(x1, y1, z1, x2, y2, z2):\n",
    "    distance = math.sqrt((x1 - x2) ** 2 + (y1 - y2) ** 2 + (z1 - z2) ** 2)\n",
    "    graph.setdefault((x1, y1, z1), []).append(((x2, y2, z2), distance))\n",
    "    \n",
    "def is_reachable(x, y, z):\n",
    "    return m.get((x, y, z)) == 'solid' and m.get((x, y, z + 1)) != 'solid'"
   ]
  },
  {
   "cell_type": "code",
   "execution_count": null,
   "metadata": {},
   "outputs": [],
   "source": [
    "def construct_graph():\n",
    "    for (x, y, z), block_type in m.items():\n",
    "        if not is_reachable(x, y, z):\n",
    "            continue\n",
    "        for dx, dy in [(1, 0), (-1, 0), (0, 1), (0, -1)]: # we only consider moving 4 dirs\n",
    "            for dz in range(-Fsafe, jump_height + 1):\n",
    "                nx, ny, nz = x + dx, y + dy, z + dz\n",
    "                if nz > z and not is_reachable(x, y, nz - 1):\n",
    "                    continue\n",
    "                if nz < z and not is_reachable(nx, ny, nz): # blocked by adjacent block\n",
    "                    continue\n",
    "                if is_reachable(nx, ny, nz):\n",
    "                    add_edge(x, y, z, nx, ny, nz)"
   ]
  },
  {
   "cell_type": "code",
   "execution_count": null,
   "metadata": {},
   "outputs": [],
   "source": [
    "def add_edge_with_resource(x1, y1, z1, k1, x2, y2, z2, k2, ex_cost):\n",
    "    distance = math.sqrt((x1 - x2) ** 2 + (y1 - y2) ** 2 + (z1 - z2) ** 2)\n",
    "    graph.setdefault((x1, y1, z1, k1), []).append(((x2, y2, z2, k2), distance + ex_cost))\n",
    "\n",
    "def construct_graph_with_resources(K):\n",
    "    for (x, y, z), block_type in m.items():\n",
    "        for k in range(K+1):  \n",
    "            if block_type == 'solid':\n",
    "                for dx, dy in [(1, 0), (-1, 0), (0, 1), (0, -1)]:\n",
    "                    for dz in [1]: # can only destruct block at z+1\n",
    "                        nx, ny, nz = x + dx, y + dy, z + dz\n",
    "                        # no block or not solid or have resource\n",
    "                        if (nx, ny, nz) not in m or (m[(nx, ny, nz)] != 'solid' or k > 0):\n",
    "                            nk = k if m.get((nx, ny, nz)) != 'solid' else k-1\n",
    "                            add_edge_with_resource(x, y, z, k, nx, ny, nz-1, nk, 1) \n",
    "            else:\n",
    "                for dx, dy in [(1, 0), (-1, 0), (0, 1), (0, -1)]:\n",
    "                    for dz in range(-Fsafe, jump_height + 1):\n",
    "                        nx, ny, nz = x + dx, y + dy, z + dz\n",
    "                        if (nx, ny, nz) in m and k >= 0:\n",
    "                            nk = k  # No resource used\n",
    "                            add_edge_with_resource(x, y, z, k, nx, ny, nz, nk, 1) \n"
   ]
  }
 ],
 "metadata": {
  "language_info": {
   "name": "python"
  }
 },
 "nbformat": 4,
 "nbformat_minor": 2
}
