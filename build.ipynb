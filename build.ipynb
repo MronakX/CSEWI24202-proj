{
 "cells": [
  {
   "cell_type": "code",
   "execution_count": 18,
   "metadata": {},
   "outputs": [],
   "source": [
    "import math\n",
    "import numpy as np"
   ]
  },
  {
   "cell_type": "code",
   "execution_count": 19,
   "metadata": {},
   "outputs": [],
   "source": [
    "# Assuming data format: {(x, y, z): 'block_type'}\n",
    "m = {}  # input map\n",
    "graph = {}\n",
    "stateful_graph = {}\n",
    "Fsafe = 3\n",
    "jump_height = 1 "
   ]
  },
  {
   "cell_type": "code",
   "execution_count": 20,
   "metadata": {},
   "outputs": [],
   "source": [
    "world_txt_filename = 'skyblock/world-dump.txt'"
   ]
  },
  {
   "cell_type": "code",
   "execution_count": 21,
   "metadata": {},
   "outputs": [],
   "source": [
    "with open(world_txt_filename, 'r') as file:\n",
    "    lines = file.readlines()"
   ]
  },
  {
   "cell_type": "code",
   "execution_count": 22,
   "metadata": {},
   "outputs": [],
   "source": [
    "for line in lines:\n",
    "    if line.startswith('b'):\n",
    "        parts = line.split() \n",
    "        x, z, y = map(int, parts[1:4]) \n",
    "        block_type = parts[4] \n",
    "        m[(x, y, z)] = block_type\n"
   ]
  },
  {
   "cell_type": "code",
   "execution_count": 23,
   "metadata": {},
   "outputs": [],
   "source": [
    "def add_edge(x1, y1, z1, x2, y2, z2):\n",
    "    distance = math.sqrt((x1 - x2) ** 2 + (y1 - y2) ** 2 + (z1 - z2) ** 2)\n",
    "    graph.setdefault((x1, y1, z1), []).append(((x2, y2, z2), distance))\n",
    "    \n",
    "def is_reachable(x, y, z):\n",
    "    return m.get((x, y, z)) == 'solid' and m.get((x, y, z + 1)) != 'solid'"
   ]
  },
  {
   "cell_type": "code",
   "execution_count": 24,
   "metadata": {},
   "outputs": [],
   "source": [
    "def construct_graph():\n",
    "    for (x, y, z), block_type in m.items():\n",
    "        if not is_reachable(x, y, z):\n",
    "            continue\n",
    "        for dx, dy in [(1, 0), (-1, 0), (0, 1), (0, -1)]: # we only consider moving 4 dirs\n",
    "            for dz in range(jump_height, -Fsafe - 1, -1):\n",
    "                nx, ny, nz = x + dx, y + dy, z + dz\n",
    "                if nz > z and not is_reachable(x, y, nz - 1):\n",
    "                    continue\n",
    "                if nz < z and not is_reachable(nx, ny, nz): # blocked by adjacent block\n",
    "                    continue\n",
    "                if is_reachable(nx, ny, nz):\n",
    "                    add_edge(x, y, z, nx, ny, nz)\n",
    "                    break"
   ]
  },
  {
   "cell_type": "code",
   "execution_count": 25,
   "metadata": {},
   "outputs": [],
   "source": [
    "construct_graph()"
   ]
  },
  {
   "cell_type": "code",
   "execution_count": 33,
   "metadata": {},
   "outputs": [],
   "source": [
    "# graph"
   ]
  },
  {
   "cell_type": "code",
   "execution_count": 27,
   "metadata": {},
   "outputs": [],
   "source": [
    "def add_edge_with_resource(x1, y1, z1, k1, x2, y2, z2, k2, ex_cost):\n",
    "    distance = math.sqrt((x1 - x2) ** 2 + (y1 - y2) ** 2 + (z1 - z2) ** 2)\n",
    "    stateful_graph.setdefault((x1, y1, z1, k1), []).append(((x2, y2, z2, k2), distance + ex_cost))\n",
    "\n",
    "def construct_graph_with_resources(K):\n",
    "    for (x, y, z), block_type in m.items():\n",
    "        for k in range(K+1):  \n",
    "            if block_type == 'solid':\n",
    "                for dx, dy in [(1, 0), (-1, 0), (0, 1), (0, -1)]:\n",
    "                    for dz in [1]: # can only destruct block at z+1\n",
    "                        nx, ny, nz = x + dx, y + dy, z + dz\n",
    "                        # no block or not solid or have resource\n",
    "                        if (nx, ny, nz) not in m or (m[(nx, ny, nz)] != 'solid' or k > 0):\n",
    "                            nk = k if m.get((nx, ny, nz)) != 'solid' else k-1\n",
    "                            add_edge_with_resource(x, y, z, k, nx, ny, nz-1, nk, 1) \n",
    "            else:\n",
    "                for dx, dy in [(1, 0), (-1, 0), (0, 1), (0, -1)]:\n",
    "                    for dz in range(jump_height, -Fsafe - 1, -1):\n",
    "                        nx, ny, nz = x + dx, y + dy, z + dz\n",
    "                        if (nx, ny, nz) in m and k >= 0:\n",
    "                            nk = k  # No resource used\n",
    "                            add_edge_with_resource(x, y, z, k, nx, ny, nz, nk, 1) \n",
    "                            break\n"
   ]
  },
  {
   "cell_type": "code",
   "execution_count": 30,
   "metadata": {},
   "outputs": [],
   "source": [
    "K = 3\n",
    "construct_graph_with_resources(K)"
   ]
  },
  {
   "cell_type": "code",
   "execution_count": 32,
   "metadata": {},
   "outputs": [],
   "source": [
    "# stateful_graph"
   ]
  },
  {
   "cell_type": "code",
   "execution_count": null,
   "metadata": {},
   "outputs": [],
   "source": [
    "# TODO: below are modified based on chatgpt's solution\n",
    "\n",
    "import math\n",
    "from queue import PriorityQueue\n",
    "\n",
    "# Assuming graph is already defined as shown in previous examples\n",
    "\n",
    "def euclidean_distance(x1, y1, z1, x2, y2, z2):\n",
    "    return math.sqrt((x2 - x1) ** 2 + (y2 - y1) ** 2 + (z2 - z1) ** 2)\n",
    "\n",
    "def a_star_search(start, goal):\n",
    "    open_set = PriorityQueue()\n",
    "    open_set.put((0, start))\n",
    "    \n",
    "    came_from = {}\n",
    "    g_score = {node: float('inf') for node in graph}\n",
    "    g_score[start] = 0\n",
    "    \n",
    "    f_score = {node: float('inf') for node in graph}\n",
    "    f_score[start] = euclidean_distance(*start, *goal)\n",
    "    \n",
    "    while not open_set.empty():\n",
    "        current = open_set.get()[1]  # Get node with lowest f_score value\n",
    "        \n",
    "        if current == goal:\n",
    "            path = [current]\n",
    "            total_cost = g_score[current]  # Total cost to reach the goal\n",
    "            while current in came_from:\n",
    "                current = came_from[current]\n",
    "                path.append(current)\n",
    "            path.reverse()\n",
    "            return path, total_cost\n",
    "        \n",
    "        for neighbor, distance in graph[current]:\n",
    "            tentative_g_score = g_score[current] + distance\n",
    "            \n",
    "            if tentative_g_score < g_score[neighbor]:\n",
    "                came_from[neighbor] = current\n",
    "                g_score[neighbor] = tentative_g_score\n",
    "                f_score[neighbor] = g_score[neighbor] + euclidean_distance(*neighbor, *goal)\n",
    "                open_set.put((f_score[neighbor], neighbor))\n",
    "    \n",
    "    return False, 0 \n",
    "\n",
    "# Example usage\n",
    "# start = (0, 0, 0)  # Assuming start position\n",
    "# goal = (5, 5, 5)  # Assum\n",
    "# path, cost = a_star_search(start, goal)\n",
    "# print(\"Path:\", path)\n",
    "# print(\"Total cost:\", cost)\n"
   ]
  },
  {
   "cell_type": "code",
   "execution_count": null,
   "metadata": {},
   "outputs": [],
   "source": [
    "def a_star_search_with_resources(start, goal, K):\n",
    "    open_set = PriorityQueue()\n",
    "    open_set.put((0, start + (K,)))  # Start node now includes initial resources\n",
    "    \n",
    "    came_from = {}\n",
    "    g_score = {node: float('inf') for node in graph}\n",
    "    g_score[start + (K,)] = 0\n",
    "    \n",
    "    f_score = {node: float('inf') for node in graph}\n",
    "    f_score[start + (K,)] = euclidean_distance(*start, *goal)\n",
    "    \n",
    "    while not open_set.empty():\n",
    "        current = open_set.get()[1]\n",
    "        \n",
    "        if current[:3] == goal:\n",
    "            path = []\n",
    "            while current in came_from:\n",
    "                path.append(current[:3])\n",
    "                current = came_from[current]\n",
    "            path.append(start)\n",
    "            return path[::-1]\n",
    "        \n",
    "        for (neighbor, k_rest), distance in graph[current]:\n",
    "            tentative_g_score = g_score[current] + distance\n",
    "            \n",
    "            if tentative_g_score < g_score[(neighbor, k_rest)]:\n",
    "                came_from[(neighbor, k_rest)] = current\n",
    "                g_score[(neighbor, k_rest)] = tentative_g_score\n",
    "                f_score[(neighbor, k_rest)] = tentative_g_score + euclidean_distance(*neighbor, *goal)\n",
    "                open_set.put((f_score[(neighbor, k_rest)], (neighbor, k_rest)))\n",
    "    \n",
    "    return False\n"
   ]
  }
 ],
 "metadata": {
  "kernelspec": {
   "display_name": "virt",
   "language": "python",
   "name": "python3"
  },
  "language_info": {
   "codemirror_mode": {
    "name": "ipython",
    "version": 3
   },
   "file_extension": ".py",
   "mimetype": "text/x-python",
   "name": "python",
   "nbconvert_exporter": "python",
   "pygments_lexer": "ipython3",
   "version": "3.9.7"
  }
 },
 "nbformat": 4,
 "nbformat_minor": 2
}
