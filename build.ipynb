{
 "cells": [
  {
   "cell_type": "code",
   "execution_count": 1,
   "metadata": {},
   "outputs": [],
   "source": [
    "import math\n",
    "import numpy as np"
   ]
  },
  {
   "cell_type": "code",
   "execution_count": 2,
   "metadata": {},
   "outputs": [],
   "source": [
    "# Assuming data format: {(x, y, z): 'block_type'}\n",
    "m = {}  # input map\n",
    "graph = {}\n",
    "stateful_graph = {}\n",
    "Fsafe = 3\n",
    "jump_height = 1 "
   ]
  },
  {
   "cell_type": "code",
   "execution_count": 3,
   "metadata": {},
   "outputs": [],
   "source": [
    "world_txt_filename = 'benchmark/superflat/world-dump.txt'"
   ]
  },
  {
   "cell_type": "code",
   "execution_count": 4,
   "metadata": {},
   "outputs": [],
   "source": [
    "with open(world_txt_filename, 'r') as file:\n",
    "    lines = file.readlines()"
   ]
  },
  {
   "cell_type": "code",
   "execution_count": 5,
   "metadata": {},
   "outputs": [],
   "source": [
    "for line in lines:\n",
    "    if line.startswith('b'):\n",
    "        parts = line.split() \n",
    "        x, z, y = map(int, parts[1:4]) \n",
    "        block_type = parts[4] \n",
    "        m[(x, y, z)] = block_type\n"
   ]
  },
  {
   "cell_type": "code",
   "execution_count": 6,
   "metadata": {},
   "outputs": [],
   "source": [
    "def add_edge(x1, y1, z1, x2, y2, z2):\n",
    "    distance = math.sqrt((x1 - x2) ** 2 + (y1 - y2) ** 2 + (z1 - z2) ** 2)\n",
    "    graph.setdefault((x1, y1, z1), []).append(((x2, y2, z2), distance))\n",
    "    \n",
    "def is_reachable(x, y, z):\n",
    "    return m.get((x, y, z)) == 'solid' and m.get((x, y, z + 1)) != 'solid'"
   ]
  },
  {
   "cell_type": "code",
   "execution_count": 7,
   "metadata": {},
   "outputs": [],
   "source": [
    "def construct_graph():\n",
    "    for (x, y, z), block_type in m.items():\n",
    "        # if not is_reachable(x, y, z):\n",
    "        #     continue\n",
    "        graph.setdefault((x, y, z), [])\n",
    "        for dx, dy in [(1, 0), (-1, 0), (0, 1), (0, -1)]: # we only consider moving 4 dirs\n",
    "            for dz in range(jump_height, -Fsafe - 1, -1):\n",
    "                nx, ny, nz = x + dx, y + dy, z + dz\n",
    "                if nz < z and m.get((nx, ny, z)) == 'solid':\n",
    "                    continue\n",
    "                elif is_reachable(nx, ny, nz):\n",
    "                    add_edge(x, y, z, nx, ny, nz)\n",
    "                    break"
   ]
  },
  {
   "cell_type": "code",
   "execution_count": 8,
   "metadata": {},
   "outputs": [],
   "source": [
    "graph = {}\n",
    "construct_graph()"
   ]
  },
  {
   "cell_type": "code",
   "execution_count": 9,
   "metadata": {},
   "outputs": [],
   "source": [
    "# graph"
   ]
  },
  {
   "cell_type": "code",
   "execution_count": 10,
   "metadata": {},
   "outputs": [],
   "source": [
    "def add_edge_with_resource(x1, y1, z1, k1, x2, y2, z2, k2, ex_cost):\n",
    "    distance = math.sqrt((x1 - x2) ** 2 + (y1 - y2) ** 2 + (z1 - z2) ** 2)\n",
    "    stateful_graph.setdefault(((x1, y1, z1), k1), []).append((((x2, y2, z2), k2), distance + ex_cost))\n",
    "    \n",
    "def construct_graph_with_resources(K):\n",
    "    for (x, y, z), block_type in m.items():\n",
    "        for k in range(K+1):  \n",
    "            stateful_graph.setdefault(((x, y, z), k), [])\n",
    "            for dx, dy in [(1, 0), (-1, 0), (0, 1), (0, -1)]:\n",
    "                for dz in [0, 1]: # can only destruct block at z+1\n",
    "                    nx, ny, nz = x + dx, y + dy, z + dz\n",
    "                    # no block or not solid or have resource\n",
    "                    # if (x, y, z) == (-4, 1, 60):\n",
    "                    #     print(\"des:\", nx, ny, nz, m[(nx, ny, nz)])\n",
    "                    if m.get((nx, ny, nz)) == 'solid' and k > 0:\n",
    "                        nk = k - 1\n",
    "                        m[(nx, ny, nz)] = 'air'\n",
    "                        if is_reachable(nx, ny, nz-1):\n",
    "                            add_edge_with_resource(x, y, z, k, nx, ny, nz-1, nk, 1) \n",
    "                        m[(nx, ny, nz)] = 'solid'\n",
    "                for dz in range(jump_height, -Fsafe - 1, -1):\n",
    "                    nx, ny, nz = x + dx, y + dy, z + dz\n",
    "                    # if (x, y, z) == (-4, 1, 60):\n",
    "                    #     print(\"reg:\", nx, ny, nz, m[(nx, ny, nz)])\n",
    "                    if is_reachable(nx, ny, nz):\n",
    "                        add_edge_with_resource(x, y, z, k, nx, ny, nz, k, 0) \n",
    "                        break            \n",
    "           "
   ]
  },
  {
   "cell_type": "code",
   "execution_count": 11,
   "metadata": {},
   "outputs": [],
   "source": [
    "K = 5\n",
    "\n",
    "stateful_graph = {}\n",
    "construct_graph_with_resources(K)"
   ]
  },
  {
   "cell_type": "code",
   "execution_count": 12,
   "metadata": {},
   "outputs": [],
   "source": [
    "# stateful_graph"
   ]
  },
  {
   "cell_type": "code",
   "execution_count": 13,
   "metadata": {},
   "outputs": [],
   "source": [
    "import math\n",
    "from queue import PriorityQueue\n",
    "\n",
    "# Assuming graph is already defined as shown in previous examples\n",
    "\n",
    "def euclidean_distance(x1, y1, z1, x2, y2, z2):\n",
    "    return math.sqrt((x2 - x1) ** 2 + (y2 - y1) ** 2 + (z2 - z1) ** 2)\n",
    "\n",
    "def a_star_search(start, goal):\n",
    "    open_set = PriorityQueue()\n",
    "    open_set.put((0, start))\n",
    "    \n",
    "    came_from = {}\n",
    "    g_score = {node: float('inf') for node in graph}\n",
    "    g_score[start] = 0\n",
    "    \n",
    "    f_score = {node: float('inf') for node in graph}\n",
    "    f_score[start] = euclidean_distance(*start, *goal)\n",
    "    \n",
    "    while not open_set.empty():\n",
    "        current = open_set.get()[1]  # Get node with lowest f_score value\n",
    "        \n",
    "        if current == goal:\n",
    "            path = [current]\n",
    "            total_cost = g_score[current]  # Total cost to reach the goal\n",
    "            while current in came_from:\n",
    "                current = came_from[current]\n",
    "                path.append(current)\n",
    "            path.reverse()\n",
    "            return path, total_cost\n",
    "        \n",
    "        for neighbor, distance in graph[current]:\n",
    "            tentative_g_score = g_score[current] + distance\n",
    "            \n",
    "            if tentative_g_score < g_score[neighbor]:\n",
    "                came_from[neighbor] = current\n",
    "                g_score[neighbor] = tentative_g_score\n",
    "                f_score[neighbor] = g_score[neighbor] + euclidean_distance(*neighbor, *goal)\n",
    "                open_set.put((f_score[neighbor], neighbor))\n",
    "    \n",
    "    return False, 0 \n",
    "\n"
   ]
  },
  {
   "cell_type": "code",
   "execution_count": 14,
   "metadata": {},
   "outputs": [],
   "source": [
    "# # Example usage\n",
    "# start = (288, -464, -61)\n",
    "# goal = (302, -331, -61)\n",
    "# path, cost = a_star_search(start, goal)\n",
    "# print(\"Path:\", path)\n",
    "# print(\"Total cost:\", cost)"
   ]
  },
  {
   "cell_type": "code",
   "execution_count": 15,
   "metadata": {},
   "outputs": [],
   "source": [
    "def a_star_search_with_resources(start, goal, K):\n",
    "    open_set = PriorityQueue()\n",
    "    # Adjust the start node format to include the resource count within the tuple\n",
    "    open_set.put((0, (start, K)))  # Start node now properly includes initial resources\n",
    "    \n",
    "    came_from = {}\n",
    "    g_score = {((x, y, z), k): float('inf') for ((x, y, z), k) in stateful_graph}\n",
    "    g_score[(start, K)] = 0  # Initialize g_score for the start node with resources\n",
    "    \n",
    "    f_score = {((x, y, z), k): float('inf') for ((x, y, z), k) in stateful_graph}\n",
    "    f_score[(start, K)] = euclidean_distance(*start, *goal)  # Initialize f_score\n",
    "    while not open_set.empty():\n",
    "        # Adjusted to retrieve ((x, y, z), k) format directly\n",
    "        current_cost, (current_pos, current_k) = open_set.get()\n",
    "        \n",
    "        if current_pos == goal:\n",
    "            path = [(current_pos, current_k)]\n",
    "            total_cost = g_score[(current_pos, current_k)]\n",
    "            while (current_pos, current_k) in came_from:\n",
    "                current_pos, current_k = came_from[(current_pos, current_k)]\n",
    "                path.append((current_pos, current_k))\n",
    "            path.reverse()\n",
    "            return path, total_cost  # Path reconstructed from goal to start\n",
    "        \n",
    "        for (neighbor, k_rest), distance in stateful_graph[(current_pos, current_k)]:\n",
    "            tentative_g_score = g_score[(current_pos, current_k)] + distance\n",
    "            \n",
    "            if tentative_g_score < g_score[(neighbor, k_rest)]:\n",
    "                # Update the path and scores for better path\n",
    "                came_from[(neighbor, k_rest)] = (current_pos, current_k)\n",
    "                g_score[(neighbor, k_rest)] = tentative_g_score\n",
    "                f_score[(neighbor, k_rest)] = tentative_g_score + euclidean_distance(*neighbor, *goal)\n",
    "                open_set.put((f_score[(neighbor, k_rest)], (neighbor, k_rest)))\n",
    "    \n",
    "    return False, 0\n"
   ]
  },
  {
   "cell_type": "code",
   "execution_count": 16,
   "metadata": {},
   "outputs": [
    {
     "name": "stdout",
     "output_type": "stream",
     "text": [
      "Path: [(288, -464, -61), (288, -463, -61), (288, -462, -61), (288, -461, -61), (288, -460, -61), (288, -459, -61), (288, -458, -61), (288, -457, -61), (288, -456, -61), (288, -455, -61), (288, -454, -61), (288, -453, -61), (288, -452, -61), (288, -451, -61), (288, -450, -61), (288, -449, -61), (288, -448, -61), (288, -447, -61), (288, -446, -61), (288, -445, -61), (288, -444, -61), (288, -443, -61), (288, -442, -61), (288, -441, -61), (288, -440, -61), (288, -439, -61), (288, -438, -61), (289, -438, -61), (290, -438, -61), (291, -438, -61), (292, -438, -61), (293, -438, -61), (293, -437, -61), (293, -436, -61), (293, -435, -61), (293, -434, -61), (293, -433, -61), (293, -432, -61), (293, -431, -61), (293, -430, -61), (293, -429, -61), (293, -428, -61), (293, -427, -61), (293, -426, -61), (293, -425, -61), (293, -424, -61), (293, -423, -61), (294, -423, -61), (294, -422, -61), (295, -422, -61), (295, -421, -61), (296, -421, -61), (296, -420, -61), (297, -420, -61), (297, -419, -61), (298, -419, -61), (298, -418, -61), (299, -418, -61), (299, -417, -61), (299, -416, -61), (300, -416, -61), (301, -416, -61), (301, -415, -61), (302, -415, -61), (303, -415, -61), (303, -414, -61), (303, -413, -61), (303, -412, -61), (303, -411, -61), (304, -411, -61), (305, -411, -61), (306, -411, -61), (306, -410, -61), (307, -410, -61), (307, -409, -61), (308, -409, -61), (309, -409, -61), (309, -408, -61), (309, -407, -61), (310, -407, -61), (310, -406, -61), (311, -406, -61), (311, -405, -61), (312, -405, -61), (312, -404, -61), (313, -404, -61)]\n",
      "Total cost: 85.0\n",
      "Path: [((288, -464, -61), 5), ((288, -463, -61), 5), ((288, -462, -61), 5), ((288, -461, -61), 5), ((288, -460, -61), 5), ((288, -459, -61), 5), ((288, -458, -61), 5), ((288, -457, -61), 5), ((288, -456, -61), 5), ((288, -455, -61), 5), ((288, -454, -61), 5), ((288, -453, -61), 5), ((288, -452, -61), 5), ((288, -451, -61), 5), ((288, -450, -61), 5), ((288, -449, -61), 5), ((288, -448, -61), 5), ((288, -447, -61), 5), ((288, -446, -61), 5), ((288, -445, -61), 5), ((288, -444, -61), 5), ((288, -443, -61), 5), ((288, -442, -61), 5), ((288, -441, -61), 5), ((288, -440, -61), 5), ((288, -439, -61), 5), ((288, -438, -61), 5), ((289, -438, -61), 5), ((290, -438, -61), 5), ((291, -438, -61), 5), ((292, -438, -61), 5), ((293, -438, -61), 5), ((293, -437, -61), 5), ((293, -436, -61), 5), ((293, -435, -61), 5), ((293, -434, -61), 5), ((293, -433, -61), 5), ((293, -432, -61), 5), ((293, -431, -61), 5), ((293, -430, -61), 5), ((293, -429, -61), 5), ((293, -428, -61), 5), ((293, -427, -61), 5), ((293, -426, -61), 5), ((293, -425, -61), 5), ((293, -424, -61), 5), ((293, -423, -61), 5), ((294, -423, -61), 5), ((294, -422, -61), 5), ((295, -422, -61), 5), ((295, -421, -61), 5), ((296, -421, -61), 5), ((296, -420, -61), 5), ((297, -420, -61), 5), ((297, -419, -61), 5), ((298, -419, -61), 5), ((298, -418, -61), 5), ((299, -418, -61), 5), ((299, -417, -61), 5), ((299, -416, -61), 5), ((300, -416, -61), 5), ((301, -416, -61), 5), ((301, -415, -61), 5), ((302, -415, -61), 5), ((303, -415, -61), 5), ((303, -414, -61), 5), ((303, -413, -61), 5), ((303, -412, -61), 5), ((303, -411, -61), 5), ((304, -411, -61), 5), ((305, -411, -61), 5), ((306, -411, -61), 5), ((306, -410, -61), 5), ((307, -410, -61), 5), ((307, -409, -61), 5), ((308, -409, -61), 5), ((309, -409, -61), 5), ((309, -408, -61), 5), ((309, -407, -61), 5), ((310, -407, -61), 5), ((310, -406, -61), 5), ((311, -406, -61), 5), ((311, -405, -61), 5), ((312, -405, -61), 5), ((312, -404, -61), 5), ((313, -404, -61), 5)]\n",
      "Total cost: 85.0\n"
     ]
    }
   ],
   "source": [
    "# start = (0, 1, 0)\n",
    "# goal = (2, 1, 0)\n",
    "\n",
    "start = (288, -464, -61)\n",
    "goal = (313, -404, -61)\n",
    "\n",
    "# 288 -64 -464\n",
    "# 313 -61 -404\n",
    "# (239, 326, -428, -361)\n",
    "K = 5\n",
    "\n",
    "path1, cost1 = a_star_search(start, goal)\n",
    "print(\"Path:\", path1)\n",
    "print(\"Total cost:\", cost1)\n",
    "\n",
    "path2, cost2 = a_star_search_with_resources(start, goal, K)\n",
    "print(\"Path:\", path2)\n",
    "print(\"Total cost:\", cost2)\n"
   ]
  },
  {
   "cell_type": "code",
   "execution_count": 17,
   "metadata": {},
   "outputs": [],
   "source": [
    "import matplotlib.pyplot as plt\n",
    "\n",
    "def parse_path(path):\n",
    "    xy_path = [(x, y) for x, y, _ in path]\n",
    "    \n",
    "    return xy_path\n",
    "\n",
    "def parse_path_resource(path):\n",
    "    xy_path = [(x, y) for (x, y, z), k in path]\n",
    "    \n",
    "    return xy_path"
   ]
  },
  {
   "cell_type": "code",
   "execution_count": 18,
   "metadata": {},
   "outputs": [
    {
     "data": {
      "text/plain": [
       "<module 'matplotlib.pyplot' from '/Users/guodw/miniforge3/envs/virt/lib/python3.9/site-packages/matplotlib/pyplot.py'>"
      ]
     },
     "execution_count": 18,
     "metadata": {},
     "output_type": "execute_result"
    },
    {
     "data": {
      "image/png": "[encoded data removed]",
      "text/plain": [
       "<Figure size 720x432 with 1 Axes>"
      ]
     },
     "metadata": {
      "needs_background": "light"
     },
     "output_type": "display_data"
    }
   ],
   "source": [
    "parsed_path = parse_path(path1)\n",
    "x, y = zip(*parsed_path)\n",
    "plt.figure(figsize=(10, 6))\n",
    "plt.plot(x, y, label=\"Path\", marker='o')\n",
    "\n",
    "# plt.axis('square')\n",
    "# plt.xlim(0, 3)\n",
    "# plt.ylim(0, 3)\n",
    "\n",
    "# plt.xticks([-1, 0, 1, 2, 3])\n",
    "# plt.yticks([-1, 0, 1, 2, 3])\n",
    "\n",
    "# Adding titles and labels\n",
    "plt.title(\"Ordinary A*\")\n",
    "plt.xlabel(\"X Coordinate\")\n",
    "plt.ylabel(\"Y Coordinate\")\n",
    "plt.legend()\n",
    "plt"
   ]
  },
  {
   "cell_type": "code",
   "execution_count": 19,
   "metadata": {},
   "outputs": [
    {
     "data": {
      "text/plain": [
       "<module 'matplotlib.pyplot' from '/Users/guodw/miniforge3/envs/virt/lib/python3.9/site-packages/matplotlib/pyplot.py'>"
      ]
     },
     "execution_count": 19,
     "metadata": {},
     "output_type": "execute_result"
    },
    {
     "data": {
      "image/png": "[encoded data removed]",
      "text/plain": [
       "<Figure size 720x432 with 1 Axes>"
      ]
     },
     "metadata": {
      "needs_background": "light"
     },
     "output_type": "display_data"
    }
   ],
   "source": [
    "parsed_path = parse_path_resource(path2)\n",
    "x, y = zip(*parsed_path)\n",
    "plt.figure(figsize=(10, 6))\n",
    "plt.plot(x, y, label=\"Path\", marker='o', color = 'red')\n",
    "\n",
    "# plt.axis('square')\n",
    "# plt.xlim(0, 3)\n",
    "# plt.ylim(0, 3)\n",
    "\n",
    "# plt.xticks([-1, 0, 1, 2, 3])\n",
    "# plt.yticks([-1, 0, 1, 2, 3])\n",
    "\n",
    "\n",
    "# Adding titles and labels\n",
    "plt.title(\"Stateful A*\")\n",
    "plt.xlabel(\"X Coordinate\")\n",
    "plt.ylabel(\"Y Coordinate\")\n",
    "plt.legend()\n",
    "plt"
   ]
  }
 ],
 "metadata": {
  "kernelspec": {
   "display_name": "virt",
   "language": "python",
   "name": "python3"
  },
  "language_info": {
   "codemirror_mode": {
    "name": "ipython",
    "version": 3
   },
   "file_extension": ".py",
   "mimetype": "text/x-python",
   "name": "python",
   "nbconvert_exporter": "python",
   "pygments_lexer": "ipython3",
   "version": "3.9.7"
  }
 },
 "nbformat": 4,
 "nbformat_minor": 2
}
